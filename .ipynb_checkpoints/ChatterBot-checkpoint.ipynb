{
 "cells": [
  {
   "cell_type": "code",
   "execution_count": null,
   "metadata": {
    "collapsed": true
   },
   "outputs": [],
   "source": [
    "# Dependencies\n",
    "import tweepy\n",
    "import json\n",
    "import time\n",
    "\n",
    "# Twitter API Keys\n",
    "consumer_key = \"ZQdPBPM1CtYOZOq5gzZ45ONGu\"\n",
    "consumer_secret = \"kH65fX9MTldOdXoxq4lOURMDzupoBqIxUk2CqJ67VsDNLYutTC\"\n",
    "access_token = \"943258585311694848-aV9Dp1OsIRdGOoXGZKy0SPWiCZMpwd0\"\n",
    "access_token_secret = \"Yr81e3f9OanedDmSsskNW7yRQZOA2qgnwnPZiXgHhQH8V\"\n",
    "\n",
    "\n",
    "# Setup Tweepy API Authentication\n",
    "auth = tweepy.OAuthHandler(consumer_key, consumer_secret)\n",
    "auth.set_access_token(access_token, access_token_secret)\n",
    "api = tweepy.API(auth, parser=tweepy.parsers.JSONParser())\n",
    "\n",
    "\n",
    "# Create a function that tweets\n",
    "```# Create a function that tweets\n",
    "def TweetOut(tweet_number):\n",
    "    api.update_status(\n",
    "        \"Can't stop. Won't stop. Chatting! This is Tweet #%s!\" %\n",
    "        tweet_number)\n",
    "\n",
    "\n",
    "# Create a function that calls the TweetOut function every minute\n",
    "counter = 0\n",
    "\n",
    "# Infinitely loop\n",
    "while(True):\n",
    "\n",
    "    # Call the TweetQuotes function and specify the tweet number\n",
    "    TweetOut(counter)\n",
    "\n",
    "    # Once tweeted, wait 60 seconds before doing anything else\n",
    "    time.sleep(60)\n",
    "\n",
    "    # Add 1 to the counter prior to re-running the loop\n",
    "    counter = counter + 1\n"
   ]
  }
 ],
 "metadata": {
  "kernelspec": {
   "display_name": "Python 3",
   "language": "python",
   "name": "python3"
  },
  "language_info": {
   "codemirror_mode": {
    "name": "ipython",
    "version": 3
   },
   "file_extension": ".py",
   "mimetype": "text/x-python",
   "name": "python",
   "nbconvert_exporter": "python",
   "pygments_lexer": "ipython3",
   "version": "3.6.3"
  }
 },
 "nbformat": 4,
 "nbformat_minor": 2
}
